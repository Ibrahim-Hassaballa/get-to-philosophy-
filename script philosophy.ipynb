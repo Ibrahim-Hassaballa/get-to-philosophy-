{
 "cells": [
  {
   "cell_type": "markdown",
   "metadata": {},
   "source": [
    "# import web scrapping library "
   ]
  },
  {
   "cell_type": "code",
   "execution_count": 181,
   "metadata": {},
   "outputs": [],
   "source": [
    "from bs4 import BeautifulSoup\n",
    "import requests\n",
    "import time"
   ]
  },
  {
   "cell_type": "code",
   "execution_count": 170,
   "metadata": {},
   "outputs": [],
   "source": [
    "add_link=\"https://en.wikipedia.org\" # add this to all links that returned from href of tag <a>"
   ]
  },
  {
   "cell_type": "code",
   "execution_count": 182,
   "metadata": {},
   "outputs": [],
   "source": [
    "target=\"https://en.wikipedia.org/wiki/Philosophy\" # target link "
   ]
  },
  {
   "cell_type": "code",
   "execution_count": 184,
   "metadata": {},
   "outputs": [],
   "source": [
    "# this function search for every link in <p> because in wikipdia the firts elink in main header or pargraphe \n",
    "#alwayse appare in <p> tag \n",
    "def search(link):\n",
    "    l=[]\n",
    "    soup=BeautifulSoup(link.text,'html.parser')    \n",
    "    for div in soup.find_all(\"p\"): \n",
    "        a = div.find('a', href=True) # find <a> anywhere in <p>\n",
    "        if a and len(l)<1:\n",
    "            l.append(a['href'])\n",
    "            url=l[0]\n",
    "            \n",
    "            new=add_link+url\n",
    "            if new == target:\n",
    "                return target\n",
    "            else:\n",
    "                l=[]\n",
    "                return new\n",
    "                "
   ]
  },
  {
   "cell_type": "code",
   "execution_count": 187,
   "metadata": {},
   "outputs": [
    {
     "name": "stdout",
     "output_type": "stream",
     "text": [
      "you are in philosophy that link : https://en.wikipedia.org/wiki/Philosophy\n",
      "links are reached befor philosophy page :\n",
      "https://en.wikipedia.org/wiki/Saginaw_Valley_State_University\n",
      "https://en.wikipedia.org/wiki/Public_university\n",
      "https://en.wikipedia.org/wiki/University\n",
      "https://en.wikipedia.org/wiki/Latin_language\n",
      "https://en.wikipedia.org/wiki/Help:IPA/Latin\n",
      "https://en.wikipedia.org/wiki/International_Phonetic_Alphabet\n",
      "https://en.wikipedia.org/wiki/Alphabet\n",
      "https://en.wikipedia.org/wiki/Letter_(alphabet)\n",
      "https://en.wikipedia.org/wiki/Symbol\n",
      "https://en.wikipedia.org/wiki/Idea\n"
     ]
    }
   ],
   "source": [
    "links=[]\n",
    "link=requests.get(\"https://en.wikipedia.org/wiki/Special:Random\")\n",
    "while True:\n",
    "    url = search(link)\n",
    "    if url == target:\n",
    "        print(\"you are in philosophy that link :\",(url))\n",
    "\n",
    "        break\n",
    "    elif url in links:\n",
    "        print(\"we are in stuck in a loop\",url)\n",
    "        break\n",
    "    else:\n",
    "        links.append(url)\n",
    "        time.sleep(0.5)\n",
    "        link = requests.get(url)\n",
    "        \n",
    "print(\"links are reached befor philosophy page :\")    \n",
    "for link in links:\n",
    "    print(link)"
   ]
  },
  {
   "cell_type": "code",
   "execution_count": null,
   "metadata": {},
   "outputs": [],
   "source": []
  },
  {
   "cell_type": "code",
   "execution_count": null,
   "metadata": {},
   "outputs": [],
   "source": []
  }
 ],
 "metadata": {
  "kernelspec": {
   "display_name": "Python 3",
   "language": "python",
   "name": "python3"
  },
  "language_info": {
   "codemirror_mode": {
    "name": "ipython",
    "version": 3
   },
   "file_extension": ".py",
   "mimetype": "text/x-python",
   "name": "python",
   "nbconvert_exporter": "python",
   "pygments_lexer": "ipython3",
   "version": "3.7.3"
  }
 },
 "nbformat": 4,
 "nbformat_minor": 2
}
